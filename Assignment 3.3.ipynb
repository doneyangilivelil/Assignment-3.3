{
 "cells": [
  {
   "cell_type": "markdown",
   "metadata": {},
   "source": [
    "Implement a function longestWord() that takes a list of words and returns the longest\n",
    "one."
   ]
  },
  {
   "cell_type": "code",
   "execution_count": 2,
   "metadata": {},
   "outputs": [
    {
     "name": "stdout",
     "output_type": "stream",
     "text": [
      "Enter the list of words seperated by a space : one two longestwordofthislist happy acadgild\n",
      "\n",
      " The longest word is : longestwordofthislist  and the length of the word is :  21\n"
     ]
    }
   ],
   "source": [
    "def longestWord():\n",
    "    a=input('Enter the list of words seperated by a space : ')\n",
    "    list1=a.split()\n",
    "    b=0\n",
    "    longestword=''\n",
    "    for val in range(len(list1)):\n",
    "        length=len(list1[val])\n",
    "        if length > b:\n",
    "            b=length\n",
    "            longestword=list1[val]\n",
    "    print('\\n The longest word is :',longestword,' and the length of the word is : ', b)\n",
    "lnw=longestWord()"
   ]
  }
 ],
 "metadata": {
  "kernelspec": {
   "display_name": "Python 3",
   "language": "python",
   "name": "python3"
  },
  "language_info": {
   "codemirror_mode": {
    "name": "ipython",
    "version": 3
   },
   "file_extension": ".py",
   "mimetype": "text/x-python",
   "name": "python",
   "nbconvert_exporter": "python",
   "pygments_lexer": "ipython3",
   "version": "3.6.4"
  }
 },
 "nbformat": 4,
 "nbformat_minor": 2
}
